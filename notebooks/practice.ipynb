{
 "cells": [
  {
   "cell_type": "code",
   "execution_count": 13,
   "id": "d3c03db2",
   "metadata": {},
   "outputs": [
    {
     "data": {
      "text/plain": [
       "'/home/ehsan/Documents/Ehsan/sql_llm'"
      ]
     },
     "execution_count": 13,
     "metadata": {},
     "output_type": "execute_result"
    }
   ],
   "source": [
    "pwd"
   ]
  },
  {
   "cell_type": "code",
   "execution_count": 15,
   "id": "9116662c",
   "metadata": {},
   "outputs": [
    {
     "data": {
      "text/plain": [
       "PosixPath('/home/ehsan/Documents/Ehsan/sql_llm')"
      ]
     },
     "execution_count": 15,
     "metadata": {},
     "output_type": "execute_result"
    }
   ],
   "source": [
    "import sys\n",
    "from pathlib import Path\n",
    "\n",
    "# Add root of the project\n",
    "root_dir = Path().resolve()\n",
    "root_dir\n"
   ]
  },
  {
   "cell_type": "code",
   "execution_count": 17,
   "id": "9b2c8095",
   "metadata": {},
   "outputs": [
    {
     "data": {
      "text/plain": [
       "'conf/config.env'"
      ]
     },
     "execution_count": 17,
     "metadata": {},
     "output_type": "execute_result"
    }
   ],
   "source": [
    "\n",
    "# sys.path.append(str(root_dir))\n",
    "\n",
    "from src.constants import DEFAULT_ENV_VARS_PATH\n",
    "\n",
    "DEFAULT_ENV_VARS_PATH"
   ]
  },
  {
   "cell_type": "code",
   "execution_count": 10,
   "id": "99ca075a",
   "metadata": {},
   "outputs": [
    {
     "data": {
      "text/plain": [
       "PosixPath('constants/__init__.py')"
      ]
     },
     "execution_count": 10,
     "metadata": {},
     "output_type": "execute_result"
    }
   ],
   "source": [
    "from pathlib import Path\n",
    "\n",
    "FILE_PATH = Path(\"constants/__init__.py\")\n",
    "FILE_PATH"
   ]
  },
  {
   "cell_type": "code",
   "execution_count": 11,
   "id": "15a7b516",
   "metadata": {},
   "outputs": [
    {
     "name": "stdout",
     "output_type": "stream",
     "text": [
      "\u001b[0m\u001b[01;34mcommon_utils\u001b[0m/  \u001b[01;34mconstants\u001b[0m/   \u001b[01;34mfunctions\u001b[0m/  main.py         query_runner.py\n",
      "\u001b[01;34mconf\u001b[0m/          \u001b[01;34mdata\u001b[0m/        helper.py   practice.ipynb  README.md\n",
      "\u001b[01;34mconfig\u001b[0m/        \u001b[01;34mdecorators\u001b[0m/  \u001b[01;34mllm_code\u001b[0m/   \u001b[01;34m__pycache__\u001b[0m/    requirements.txt\n"
     ]
    }
   ],
   "source": [
    "ls"
   ]
  },
  {
   "cell_type": "code",
   "execution_count": 22,
   "id": "6100a0b1",
   "metadata": {},
   "outputs": [
    {
     "data": {
      "text/plain": [
       "'/home/ehsan/Documents/Ehsan/sql_llm'"
      ]
     },
     "execution_count": 22,
     "metadata": {},
     "output_type": "execute_result"
    }
   ],
   "source": [
    "from llm_code.settings import project\n",
    "\n",
    "from pathlib import Path\n",
    "path = \"/home/ehsan/Documents/Ehsan/sql_llm/constants/data_paths.py\"\n",
    "FILE_PATH = Path(path).parent.parent\n",
    "str(FILE_PATH)"
   ]
  },
  {
   "cell_type": "code",
   "execution_count": null,
   "id": "6280d403",
   "metadata": {},
   "outputs": [],
   "source": [
    "# def display_chart_analytics(df: pd.DataFrame, unique_key, is_editable=True):\n",
    "#     \"\"\"Elegant interactive bar chart with highlight, hover, and percentage handling.\"\"\"\n",
    "\n",
    "#     if df is None or not isinstance(df, pd.DataFrame) or df.empty:\n",
    "#         st.warning(\"No data available for chart visualization.\")\n",
    "#         return None, None, unique_key\n",
    "\n",
    "#     df.columns = [convert_to_readable_format_simple(col) for col in df.columns]\n",
    "#     non_numeric_columns, all_numeric_columns, percentage_columns = process_columns(df)\n",
    "\n",
    "#     if not non_numeric_columns or not all_numeric_columns:\n",
    "#         st.warning(\"Insufficient data for chart.\")\n",
    "#         return None, None, unique_key\n",
    "\n",
    "#     # -- Chart Config UI\n",
    "#     st.write(\"##### ⚙️ Chart Settings\")\n",
    "#     col1, col2 = st.columns(2)\n",
    "#     with col1:\n",
    "#         x_axis = st.selectbox(\"X-Axis (Dimension)\", non_numeric_columns, key=f\"x_axis_{unique_key}\", disabled=not is_editable)\n",
    "#     with col2:\n",
    "#         highlight_col = st.selectbox(\"Highlight Metric\", [\"All\"] + all_numeric_columns, key=f\"highlight_col_{unique_key}\", disabled=not is_editable)\n",
    "\n",
    "#     if not x_axis:\n",
    "#         st.info(\"Please select a valid X-Axis to view chart.\")\n",
    "#         return None, None, unique_key\n",
    "\n",
    "#     df_chart = df.copy()\n",
    "#     y_axis_cols, y_labels_map = [], {}\n",
    "\n",
    "#     for col in all_numeric_columns:\n",
    "#         col_clean = col.strip()\n",
    "#         if \"percentage\" in col_clean.lower():\n",
    "#             new_col = f\"{col_clean}_numeric\"\n",
    "#             df_chart[new_col] = df_chart[col_clean].astype(float)\n",
    "#             y_labels_map[new_col] = col_clean\n",
    "#             y_axis_cols.append(new_col)\n",
    "#         else:\n",
    "#             y_axis_cols.append(col_clean)\n",
    "\n",
    "#     try:\n",
    "#         fig = px.bar(\n",
    "#             df_chart,\n",
    "#             x=x_axis,\n",
    "#             y=y_axis_cols,\n",
    "#             barmode=\"group\",\n",
    "#             title=f\"📊 Metrics by {x_axis.title()}\",\n",
    "#             color_discrete_sequence=px.colors.qualitative.Set2,\n",
    "#         )\n",
    "\n",
    "#         for trace in fig.data:\n",
    "#             orig_name = trace.name\n",
    "#             trace.opacity = 1.0 if highlight_col == \"All\" or orig_name == highlight_col else 0.5\n",
    "\n",
    "#         for trace in fig.data:\n",
    "#             name = trace.name\n",
    "#             col = y_labels_map.get(name, name)\n",
    "#             values = df_chart[name] if name in df_chart.columns else []\n",
    "#             is_pct = \"percentage\" in col.lower()\n",
    "\n",
    "#             # Show text only if value is reasonably large (auto adapts to filtered data)\n",
    "#             text = []\n",
    "#             text_position = []\n",
    "\n",
    "#             for val in values:\n",
    "#                 if is_pct:\n",
    "#                     if val >= 10:  # >=10% visible inside the bar\n",
    "#                         text.append(f\"{val:.1f}%\")\n",
    "#                         text_position.append(\"inside\")\n",
    "#                     elif val >= 5:  # between 5%-10% visible but no text\n",
    "#                         text.append(\"\")\n",
    "#                         text_position.append(\"none\")\n",
    "#                     else:  # hide completely\n",
    "#                         text.append(\"\")\n",
    "#                         text_position.append(\"none\")\n",
    "#                 else:\n",
    "#                     if val >= 1000:  # big numeric values\n",
    "#                         text.append(f\"{val:,.0f}\")\n",
    "#                         text_position.append(\"auto\")\n",
    "#                     elif val >= 100:\n",
    "#                         text.append(f\"{val:,.0f}\")\n",
    "#                         text_position.append(\"inside\")\n",
    "#                     else:\n",
    "#                         text.append(\"\")\n",
    "#                         text_position.append(\"none\")\n",
    "\n",
    "#             trace.text = text\n",
    "#             trace.textposition = text_position\n",
    "#             trace.textfont = dict(size=13, color=\"black\")\n",
    "\n",
    "#             trace.hovertemplate = (\n",
    "#                 f\"<b>{col}</b><br>{x_axis}: %{{x}}<br>Value: %{{y:.1f}}%\" if is_pct\n",
    "#                 else f\"<b>{col}</b><br>{x_axis}: %{{x}}<br>Value: %{{y:,.0f}}\"\n",
    "#             )\n",
    "\n",
    "#         fig.update_layout(\n",
    "#             height=520,\n",
    "#             yaxis_title=\"Metric Value\",\n",
    "#             xaxis_title=x_axis.title(),\n",
    "#             legend=dict(orientation=\"h\", x=0.3, xanchor=\"center\", y=-0.1),\n",
    "#             title_font=dict(size=10, family=\"Arial\", color=\"#333\"),\n",
    "#             bargap=0.2,\n",
    "#             hovermode=\"closest\",\n",
    "#             plot_bgcolor=\"rgba(250,250,255,0.9)\",\n",
    "#             paper_bgcolor=\"white\",\n",
    "#         )\n",
    "\n",
    "#         st.plotly_chart(fig, use_container_width=True, key=f\"plot_{unique_key}\")\n",
    "#         return fig, {\"x_axis\": x_axis, \"highlight_column\": highlight_col}, unique_key\n",
    "\n",
    "#     except Exception as e:\n",
    "#         st.error(f\"Chart error: {e}\")\n",
    "#         return None, None, unique_key\n"
   ]
  }
 ],
 "metadata": {
  "kernelspec": {
   "display_name": "gen_env",
   "language": "python",
   "name": "python3"
  },
  "language_info": {
   "codemirror_mode": {
    "name": "ipython",
    "version": 3
   },
   "file_extension": ".py",
   "mimetype": "text/x-python",
   "name": "python",
   "nbconvert_exporter": "python",
   "pygments_lexer": "ipython3",
   "version": "3.12.3"
  }
 },
 "nbformat": 4,
 "nbformat_minor": 5
}
