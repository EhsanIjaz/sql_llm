{
 "cells": [
  {
   "cell_type": "code",
   "execution_count": 13,
   "id": "d3c03db2",
   "metadata": {},
   "outputs": [
    {
     "data": {
      "text/plain": [
       "'/home/ehsan/Documents/Ehsan/sql_llm'"
      ]
     },
     "execution_count": 13,
     "metadata": {},
     "output_type": "execute_result"
    }
   ],
   "source": [
    "pwd"
   ]
  },
  {
   "cell_type": "code",
   "execution_count": 15,
   "id": "9116662c",
   "metadata": {},
   "outputs": [
    {
     "data": {
      "text/plain": [
       "PosixPath('/home/ehsan/Documents/Ehsan/sql_llm')"
      ]
     },
     "execution_count": 15,
     "metadata": {},
     "output_type": "execute_result"
    }
   ],
   "source": [
    "import sys\n",
    "from pathlib import Path\n",
    "\n",
    "# Add root of the project\n",
    "root_dir = Path().resolve()\n",
    "root_dir\n"
   ]
  },
  {
   "cell_type": "code",
   "execution_count": 17,
   "id": "9b2c8095",
   "metadata": {},
   "outputs": [
    {
     "data": {
      "text/plain": [
       "'conf/config.env'"
      ]
     },
     "execution_count": 17,
     "metadata": {},
     "output_type": "execute_result"
    }
   ],
   "source": [
    "\n",
    "# sys.path.append(str(root_dir))\n",
    "\n",
    "from constants import DEFAULT_ENV_VARS_PATH\n",
    "\n",
    "DEFAULT_ENV_VARS_PATH"
   ]
  },
  {
   "cell_type": "code",
   "execution_count": 10,
   "id": "99ca075a",
   "metadata": {},
   "outputs": [
    {
     "data": {
      "text/plain": [
       "PosixPath('constants/__init__.py')"
      ]
     },
     "execution_count": 10,
     "metadata": {},
     "output_type": "execute_result"
    }
   ],
   "source": [
    "from pathlib import Path\n",
    "\n",
    "FILE_PATH = Path(\"constants/__init__.py\")\n",
    "FILE_PATH"
   ]
  },
  {
   "cell_type": "code",
   "execution_count": 11,
   "id": "15a7b516",
   "metadata": {},
   "outputs": [
    {
     "name": "stdout",
     "output_type": "stream",
     "text": [
      "\u001b[0m\u001b[01;34mcommon_utils\u001b[0m/  \u001b[01;34mconstants\u001b[0m/   \u001b[01;34mfunctions\u001b[0m/  main.py         query_runner.py\n",
      "\u001b[01;34mconf\u001b[0m/          \u001b[01;34mdata\u001b[0m/        helper.py   practice.ipynb  README.md\n",
      "\u001b[01;34mconfig\u001b[0m/        \u001b[01;34mdecorators\u001b[0m/  \u001b[01;34mllm_code\u001b[0m/   \u001b[01;34m__pycache__\u001b[0m/    requirements.txt\n"
     ]
    }
   ],
   "source": [
    "ls"
   ]
  },
  {
   "cell_type": "code",
   "execution_count": 22,
   "id": "6100a0b1",
   "metadata": {},
   "outputs": [
    {
     "data": {
      "text/plain": [
       "'/home/ehsan/Documents/Ehsan/sql_llm'"
      ]
     },
     "execution_count": 22,
     "metadata": {},
     "output_type": "execute_result"
    }
   ],
   "source": [
    "from llm_code.settings import project\n",
    "\n",
    "from pathlib import Path\n",
    "path = \"/home/ehsan/Documents/Ehsan/sql_llm/constants/data_paths.py\"\n",
    "FILE_PATH = Path(path).parent.parent\n",
    "str(FILE_PATH)"
   ]
  },
  {
   "cell_type": "code",
   "execution_count": null,
   "id": "6280d403",
   "metadata": {},
   "outputs": [],
   "source": []
  }
 ],
 "metadata": {
  "kernelspec": {
   "display_name": "gen_env",
   "language": "python",
   "name": "python3"
  },
  "language_info": {
   "codemirror_mode": {
    "name": "ipython",
    "version": 3
   },
   "file_extension": ".py",
   "mimetype": "text/x-python",
   "name": "python",
   "nbconvert_exporter": "python",
   "pygments_lexer": "ipython3",
   "version": "3.12.3"
  }
 },
 "nbformat": 4,
 "nbformat_minor": 5
}
