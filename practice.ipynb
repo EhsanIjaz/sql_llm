{
 "cells": [
  {
   "cell_type": "code",
   "execution_count": 13,
   "id": "d3c03db2",
   "metadata": {},
   "outputs": [
    {
     "data": {
      "text/plain": [
       "'/home/ehsan/Documents/Ehsan/sql_llm'"
      ]
     },
     "execution_count": 13,
     "metadata": {},
     "output_type": "execute_result"
    }
   ],
   "source": [
    "pwd"
   ]
  },
  {
   "cell_type": "code",
   "execution_count": 15,
   "id": "9116662c",
   "metadata": {},
   "outputs": [
    {
     "data": {
      "text/plain": [
       "PosixPath('/home/ehsan/Documents/Ehsan/sql_llm')"
      ]
     },
     "execution_count": 15,
     "metadata": {},
     "output_type": "execute_result"
    }
   ],
   "source": [
    "import sys\n",
    "from pathlib import Path\n",
    "\n",
    "# Add root of the project\n",
    "root_dir = Path().resolve()\n",
    "root_dir\n"
   ]
  },
  {
   "cell_type": "code",
   "execution_count": 17,
   "id": "9b2c8095",
   "metadata": {},
   "outputs": [
    {
     "data": {
      "text/plain": [
       "'conf/config.env'"
      ]
     },
     "execution_count": 17,
     "metadata": {},
     "output_type": "execute_result"
    }
   ],
   "source": [
    "\n",
    "# sys.path.append(str(root_dir))\n",
    "\n",
    "from constants import DEFAULT_ENV_VARS_PATH\n",
    "\n",
    "DEFAULT_ENV_VARS_PATH"
   ]
  },
  {
   "cell_type": "code",
   "execution_count": 12,
   "id": "99ca075a",
   "metadata": {},
   "outputs": [
    {
     "name": "stdout",
     "output_type": "stream",
     "text": [
      "/home/ehsan/Documents/Ehsan/sql_llm\n"
     ]
    },
    {
     "ename": "ModuleNotFoundError",
     "evalue": "No module named 'sql_llm'",
     "output_type": "error",
     "traceback": [
      "\u001b[0;31m---------------------------------------------------------------------------\u001b[0m",
      "\u001b[0;31mModuleNotFoundError\u001b[0m                       Traceback (most recent call last)",
      "Cell \u001b[0;32mIn[12], line 12\u001b[0m\n\u001b[1;32m      9\u001b[0m \u001b[38;5;28mprint\u001b[39m(root_dir)\n\u001b[1;32m     10\u001b[0m sys\u001b[38;5;241m.\u001b[39mpath\u001b[38;5;241m.\u001b[39mappend(\u001b[38;5;28mstr\u001b[39m(root_dir))\n\u001b[0;32m---> 12\u001b[0m \u001b[38;5;28;01mfrom\u001b[39;00m \u001b[38;5;21;01msql_llm\u001b[39;00m\u001b[38;5;21;01m.\u001b[39;00m\u001b[38;5;21;01mconstants\u001b[39;00m \u001b[38;5;28;01mimport\u001b[39;00m DEFAULT_ENV_VARS_PATH\n\u001b[1;32m     14\u001b[0m \u001b[38;5;66;03m# load env variables\u001b[39;00m\n\u001b[1;32m     15\u001b[0m load_dotenv()\n",
      "\u001b[0;31mModuleNotFoundError\u001b[0m: No module named 'sql_llm'"
     ]
    }
   ],
   "source": [
    "from dotenv import load_dotenv\n",
    "import os\n",
    "from pathlib import Path\n",
    "import sys\n",
    "\n",
    "\n",
    "root_dir = Path().resolve()\n",
    "\n",
    "print(root_dir)\n",
    "sys.path.append(str(root_dir))\n",
    "\n",
    "from sql_llm.constants import DEFAULT_ENV_VARS_PATH\n",
    "\n",
    "# load env variables\n",
    "load_dotenv()\n",
    "\n",
    "# class EnvConfig:\n",
    "#     def __init__(self, env_path = )"
   ]
  },
  {
   "cell_type": "code",
   "execution_count": null,
   "id": "15a7b516",
   "metadata": {},
   "outputs": [],
   "source": []
  },
  {
   "cell_type": "code",
   "execution_count": null,
   "id": "6100a0b1",
   "metadata": {},
   "outputs": [],
   "source": []
  }
 ],
 "metadata": {
  "kernelspec": {
   "display_name": "gen_env",
   "language": "python",
   "name": "python3"
  },
  "language_info": {
   "codemirror_mode": {
    "name": "ipython",
    "version": 3
   },
   "file_extension": ".py",
   "mimetype": "text/x-python",
   "name": "python",
   "nbconvert_exporter": "python",
   "pygments_lexer": "ipython3",
   "version": "3.12.3"
  }
 },
 "nbformat": 4,
 "nbformat_minor": 5
}
